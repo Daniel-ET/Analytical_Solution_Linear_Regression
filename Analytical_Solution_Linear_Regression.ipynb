{
  "nbformat": 4,
  "nbformat_minor": 0,
  "metadata": {
    "colab": {
      "name": "Analytical_Solution_Linear_Regression.ipynb",
      "provenance": [],
      "collapsed_sections": []
    },
    "kernelspec": {
      "name": "python3",
      "display_name": "Python 3"
    },
    "language_info": {
      "name": "python"
    }
  },
  "cells": [
    {
      "cell_type": "markdown",
      "source": [
        "# <u>**Least Squares**\n"
      ],
      "metadata": {
        "id": "XoXcWRfAunQ0"
      }
    },
    {
      "cell_type": "markdown",
      "source": [
        "\n",
        "Given a family of regression models, the least squares solution is the model that minimises the mean squared error on our training dataset. Consider the folowing **multiple linear model**:\n",
        "\n",
        "$\\begin{equation}\n",
        "f(x) = w_0 + w_1 x_1 + ... + w_K x_K\n",
        "\\end{equation}$\n",
        "\n",
        "where $x_1, ..., x_K$ are the predictors and $w_0, ..., w_K$ are the model's parameters. If we have a dataset consisting of $N$ samples, we can obtain the parameters of the least squares solution using the **normal equations** \n",
        "\n",
        "$\\begin{equation}\n",
        "\\mathbf{w} = (\\mathbf{X}^T\\mathbf{X})^{-1}\\mathbf{X}^T\\mathbf{y}\n",
        "\\end{equation}$\n",
        "\n",
        "where $\\mathbf{w}=[w_1, ... , w_K]^T$ are the parameters of the model, $\\mathbf{y}=[y_0, ..., y_N]^T$ are the true labels in the dataset and $\\mathbf{X}$ is the design matrix. The least squares solution for **simple polynomial regression** can be obtained following an identical approach. Given a polynomial model\n",
        "\n",
        "$\\begin{equation}\n",
        "f(x) = w_0 + w_1 x + ... + w_K x^K\n",
        "\\end{equation}$\n",
        "\n",
        "we can treat $x, x^2, ..., x^K$ as separate predictors, build the corresponding design matrix $\\mathbf{X}$ and use the normal equation."
      ],
      "metadata": {
        "id": "347nrNS8iDl4"
      }
    },
    {
      "cell_type": "markdown",
      "source": [
        "As you can see, obtaining the least square solution involves: \n",
        "\n",
        "- **Arrays** ($\\mathbf{w}$, $\\mathbf{y}$ and $\\mathbf{X}$).\n",
        "- **Transposition**.\n",
        "- **Matrix inversion**.\n",
        "- **Matrix multiplication**. "
      ],
      "metadata": {
        "id": "HqbaLOGEiOUP"
      }
    },
    {
      "cell_type": "code",
      "execution_count": 1,
      "metadata": {
        "id": "qR-aDs2Tdth2"
      },
      "outputs": [],
      "source": [
        "# import necessary packages\n",
        "import numpy as np\n",
        "import matplotlib.pyplot as plt"
      ]
    },
    {
      "cell_type": "markdown",
      "source": [
        "**Obtaining the least square solution involves**: \n",
        "\n",
        "- **Arrays** ($\\mathbf{w}$, $\\mathbf{y}$ and $\\mathbf{X}$).\n",
        "- **Transposition**.\n",
        "- **Matrix inversion**.\n",
        "- **Matrix multiplication**. "
      ],
      "metadata": {
        "id": "XEWoL9oFeSlT"
      }
    },
    {
      "cell_type": "code",
      "source": [
        "# Define a dataset, here it consists of 10 samples described by one predictor x and one label y\n",
        "x = np.array([2, 3, 1, 1, 0, 5, 4, 6, 5, 3], ndmin=2).T\n",
        "y = np.array([1, 2, 2, 1, 1, 3, 3, 7, 6, 5], ndmin=2).T"
      ],
      "metadata": {
        "id": "qONXGYNqd9Ul"
      },
      "execution_count": 2,
      "outputs": []
    },
    {
      "cell_type": "code",
      "source": [
        "plt.plot(x, y, 'o', label = 'Data Points')\n",
        "plt.xlabel('x (attribute)', fontsize=18)\n",
        "plt.ylabel('y (label)', fontsize=18)\n",
        "plt.xlim(-1,8)\n",
        "plt.ylim(0, 8)\n",
        "plt.grid(alpha = 0.2)\n",
        "plt.legend(fontsize = 12)\n",
        "plt.show"
      ],
      "metadata": {
        "colab": {
          "base_uri": "https://localhost:8080/",
          "height": 309
        },
        "id": "rDW-a8SvfO4v",
        "outputId": "5f3a6531-277c-477e-8704-69fbe9200db0"
      },
      "execution_count": 3,
      "outputs": [
        {
          "output_type": "execute_result",
          "data": {
            "text/plain": [
              "<function matplotlib.pyplot.show>"
            ]
          },
          "metadata": {},
          "execution_count": 3
        },
        {
          "output_type": "display_data",
          "data": {
            "text/plain": [
              "<Figure size 432x288 with 1 Axes>"
            ],
            "image/png": "[encoded data removed]"
          },
          "metadata": {
            "needs_background": "light"
          }
        }
      ]
    },
    {
      "cell_type": "markdown",
      "source": [
        "Note that here we have obtained the transpose of two row vectors using `.T` instead of `np.transpose`. Both options are equivalent. The most important point is that `x` and `y` are two column vectors consisting of 10 rows and 1 column, i.e. 10x1 vectors:"
      ],
      "metadata": {
        "id": "tJRR2FHrgQW4"
      }
    },
    {
      "cell_type": "code",
      "source": [
        "# Print shape\n",
        "print(x.shape)\n",
        "print(y.shape)"
      ],
      "metadata": {
        "colab": {
          "base_uri": "https://localhost:8080/"
        },
        "id": "5YgAtkr0gWuU",
        "outputId": "0a9fc9ba-75a8-4865-8799-71da9e95dff0"
      },
      "execution_count": 4,
      "outputs": [
        {
          "output_type": "stream",
          "name": "stdout",
          "text": [
            "(10, 1)\n",
            "(10, 1)\n"
          ]
        }
      ]
    },
    {
      "cell_type": "markdown",
      "source": [
        "We can now obtain the least squares solution for a simple linear model $f(x) = w_0 + w_1x$. We first need to calculate the design matrix and then use the normal equation. We do so with the following steps\n",
        "\n",
        "Step 1: $X^TX$\n",
        "\n",
        "Step 2: $(X^TX)^{-1}$\n",
        "\n",
        "Step 3: $(X^TX)^{-1}X^T$"
      ],
      "metadata": {
        "id": "Xwl0PKz_hIp8"
      }
    },
    {
      "cell_type": "code",
      "source": [
        "X = np.column_stack([np.ones(x.shape), x])\n",
        "print(\"The design matrix is:\\n\", X)\n",
        "\n",
        "XTX = np.dot(X.T, X) # Step 1\n",
        "XTX_inv = np.linalg.inv(XTX) # Step 2\n",
        "XTX_invXT = np.dot(XTX_inv, X.T) # Step 3\n",
        "\n",
        "w = np.dot(XTX_invXT, y)\n",
        "print(\"The 2 parameters of the least squares linear solution are\\n\", w)"
      ],
      "metadata": {
        "colab": {
          "base_uri": "https://localhost:8080/"
        },
        "id": "xLYCO60rig63",
        "outputId": "50acd832-97da-44eb-9ad0-65b7887cda52"
      },
      "execution_count": 5,
      "outputs": [
        {
          "output_type": "stream",
          "name": "stdout",
          "text": [
            "The design matrix is:\n",
            " [[1. 2.]\n",
            " [1. 3.]\n",
            " [1. 1.]\n",
            " [1. 1.]\n",
            " [1. 0.]\n",
            " [1. 5.]\n",
            " [1. 4.]\n",
            " [1. 6.]\n",
            " [1. 5.]\n",
            " [1. 3.]]\n",
            "The 2 parameters of the least squares linear solution are\n",
            " [[0.43333333]\n",
            " [0.88888889]]\n"
          ]
        }
      ]
    },
    {
      "cell_type": "markdown",
      "source": [
        "Now that we have the parameters $w_o$ and $w_1$ of the linear model, we can use them to predict the labels of 100 predictors uniformly spaced between -1 and 8"
      ],
      "metadata": {
        "id": "CIY5VLrVjX2f"
      }
    },
    {
      "cell_type": "code",
      "source": [
        "x_LS = np.linspace(-1,8,100).T\n",
        "X_LS = np.column_stack([np.ones(x_LS.shape), x_LS])\n",
        "y_LS = np.dot(X_LS, w)\n",
        "\n",
        "\n",
        "plt.plot(x, y, 'o', label=\"Dataset\")\n",
        "plt.plot(x_LS, y_LS, label=\"Linear prediction\")\n",
        "plt.xlabel(\"x (attribute)\", fontsize=18)\n",
        "plt.ylabel(\"y (label)\", fontsize=18)\n",
        "plt.xlim(-1,8)\n",
        "plt.ylim(0, 8)\n",
        "plt.grid(alpha=0.2)\n",
        "plt.legend(fontsize=12)\n",
        "plt.show()"
      ],
      "metadata": {
        "colab": {
          "base_uri": "https://localhost:8080/",
          "height": 291
        },
        "id": "QppLGXWDjr1c",
        "outputId": "6b88d196-504e-4c9e-c96f-0f132265f775"
      },
      "execution_count": 6,
      "outputs": [
        {
          "output_type": "display_data",
          "data": {
            "text/plain": [
              "<Figure size 432x288 with 1 Axes>"
            ],
            "image/png": "[encoded data removed]"
          },
          "metadata": {
            "needs_background": "light"
          }
        }
      ]
    },
    {
      "cell_type": "markdown",
      "source": [
        "# <u>**Different Polynomial Models**"
      ],
      "metadata": {
        "id": "fOqNAgUyeNK3"
      }
    },
    {
      "cell_type": "markdown",
      "source": [
        "### **Quadratic Model**  $y=w_0 +w_1x + w_2x^2$"
      ],
      "metadata": {
        "id": "acnAzNOwuc7q"
      }
    },
    {
      "cell_type": "markdown",
      "source": [
        "Note the design matrix will include a new column with the squares of the predictors and instead of 2, we will have 3 parameters ($w_0$, $w_1$ and $w_2$):"
      ],
      "metadata": {
        "id": "fFv9fwbguR5M"
      }
    },
    {
      "cell_type": "code",
      "source": [
        "#Define a dataset\n",
        "x = np.array([1, 2, 3, 5, 7, 8, 2.5, 8], ndmin=2).T\n",
        "y = np.array([2.2, 3.5, 3.9, 2.9, 5, 6.2, 3, 4.8], ndmin=2).T"
      ],
      "metadata": {
        "id": "BNsN-EC4u-ST"
      },
      "execution_count": 7,
      "outputs": []
    },
    {
      "cell_type": "code",
      "source": [
        "X = np.column_stack([np.ones(x.shape), x, x**2]) # Note we are including powers up to 3, the square of the predictors\n",
        "print(\"The design matrix is:\\n\", X)\n",
        "\n",
        "XTX = np.dot(X.T, X)\n",
        "XTX_inv = np.linalg.inv(XTX)\n",
        "XTX_invXT = np.dot(XTX_inv, X.T)\n",
        "\n",
        "w = np.dot(XTX_invXT, y)\n",
        "print(\"The 3 parameters of the least squares quadratic solution are\\n\", w)\n",
        "\n",
        "X_LS = np.column_stack([np.ones(x_LS.shape), x_LS, x_LS**2])\n",
        "y_LS = np.dot(X_LS, w)\n",
        "\n",
        "\n",
        "plt.plot(x, y, 'o', label=\"Dataset\")\n",
        "plt.title('Quadratic Model', weight = 'bold')\n",
        "plt.plot(x_LS, y_LS, label=\"Quadratic prediction\")\n",
        "plt.xlabel(\"x (attribute)\", fontsize=18)\n",
        "plt.ylabel(\"y (label)\", fontsize=18)\n",
        "plt.xlim(-1,8.5)\n",
        "plt.ylim(0, 8)\n",
        "plt.grid(alpha=0.2)\n",
        "plt.legend(fontsize=12)\n",
        "plt.show()"
      ],
      "metadata": {
        "colab": {
          "base_uri": "https://localhost:8080/",
          "height": 541
        },
        "id": "XkbGFslfvNbu",
        "outputId": "96d9bf49-aa8a-4aba-e07f-a7319616b430"
      },
      "execution_count": 8,
      "outputs": [
        {
          "output_type": "stream",
          "name": "stdout",
          "text": [
            "The design matrix is:\n",
            " [[ 1.    1.    1.  ]\n",
            " [ 1.    2.    4.  ]\n",
            " [ 1.    3.    9.  ]\n",
            " [ 1.    5.   25.  ]\n",
            " [ 1.    7.   49.  ]\n",
            " [ 1.    8.   64.  ]\n",
            " [ 1.    2.5   6.25]\n",
            " [ 1.    8.   64.  ]]\n",
            "The 3 parameters of the least squares quadratic solution are\n",
            " [[2.7167995 ]\n",
            " [0.03485877]\n",
            " [0.03821489]]\n"
          ]
        },
        {
          "output_type": "display_data",
          "data": {
            "text/plain": [
              "<Figure size 432x288 with 1 Axes>"
            ],
            "image/png": "[encoded data removed]"
          },
          "metadata": {
            "needs_background": "light"
          }
        }
      ]
    },
    {
      "cell_type": "markdown",
      "source": [
        "### **Cubic Model**  $y=w_0 +w_1x + w_2x^2 + w_3x^3$"
      ],
      "metadata": {
        "id": "eIqo4knlvkrW"
      }
    },
    {
      "cell_type": "code",
      "source": [
        "#Define a dataset\n",
        "x = np.array([1, 2, 3, 5, 7, 8, 2.5, 8], ndmin=2).T\n",
        "y = np.array([2.2, 3.5, 3.9, 2.9, 5, 6.2, 3, 4.8], ndmin=2).T"
      ],
      "metadata": {
        "id": "H1lDb8t5v29z"
      },
      "execution_count": 9,
      "outputs": []
    },
    {
      "cell_type": "code",
      "source": [
        "X = np.column_stack([np.ones(x.shape), x, x**2, x**3]) # Note we are including powers up to 3, the cube of the predictors\n",
        "print(\"The design matrix is:\\n\", X)\n",
        "\n",
        "XTX = np.dot(X.T, X)\n",
        "XTX_inv = np.linalg.inv(XTX)\n",
        "XTX_invXT = np.dot(XTX_inv, X.T)\n",
        "\n",
        "w = np.dot(XTX_invXT, y)\n",
        "print(\"The 4 parameters of the least squares cubic solution are\\n\", w)\n",
        "\n",
        "X_LS = np.column_stack([np.ones(x_LS.shape), x_LS, x_LS**2, x_LS**3])\n",
        "y_LS = np.dot(X_LS, w)\n",
        "\n",
        "\n",
        "plt.plot(x, y, 'o', label=\"Dataset\")\n",
        "plt.title('Cubic Model', weight = 'bold')\n",
        "plt.plot(x_LS, y_LS, label=\"Cubic prediction\")\n",
        "plt.xlabel(\"x (attribute)\", fontsize=18)\n",
        "plt.ylabel(\"y (label)\", fontsize=18)\n",
        "plt.xlim(-1,8.5)\n",
        "plt.ylim(0, 8)\n",
        "plt.grid(alpha=0.2)\n",
        "plt.legend(fontsize=12)\n",
        "plt.show()"
      ],
      "metadata": {
        "colab": {
          "base_uri": "https://localhost:8080/",
          "height": 559
        },
        "id": "hyrn_xKxwE00",
        "outputId": "fa983249-39ad-44c1-ab7a-5a6d4f5ef83b"
      },
      "execution_count": 10,
      "outputs": [
        {
          "output_type": "stream",
          "name": "stdout",
          "text": [
            "The design matrix is:\n",
            " [[  1.      1.      1.      1.   ]\n",
            " [  1.      2.      4.      8.   ]\n",
            " [  1.      3.      9.     27.   ]\n",
            " [  1.      5.     25.    125.   ]\n",
            " [  1.      7.     49.    343.   ]\n",
            " [  1.      8.     64.    512.   ]\n",
            " [  1.      2.5     6.25   15.625]\n",
            " [  1.      8.     64.    512.   ]]\n",
            "The 4 parameters of the least squares cubic solution are\n",
            " [[ 0.84346828]\n",
            " [ 1.95172897]\n",
            " [-0.4743834 ]\n",
            " [ 0.03818664]]\n"
          ]
        },
        {
          "output_type": "display_data",
          "data": {
            "text/plain": [
              "<Figure size 432x288 with 1 Axes>"
            ],
            "image/png": "[encoded data removed]"
          },
          "metadata": {
            "needs_background": "light"
          }
        }
      ]
    },
    {
      "cell_type": "markdown",
      "source": [
        "### **Quartic Model**  $y=w_0 +w_1x + w_2x^2 + w_3x^3 + w_4x^4$"
      ],
      "metadata": {
        "id": "aQUD9DWCwayz"
      }
    },
    {
      "cell_type": "markdown",
      "source": [
        "Now we obtain the least squares solution of a polynomial of degree 4. However, lets put steps 1 to 3 into a single line of code for simplicity:"
      ],
      "metadata": {
        "id": "LLJDUCUQwm4n"
      }
    },
    {
      "cell_type": "code",
      "source": [
        "#Define a dataset\n",
        "x = np.array([1, 2, 3, 5, 7, 8, 2.5, 8], ndmin=2).T\n",
        "y = np.array([2.2, 3.5, 3.9, 2.9, 5, 6.2, 3, 4.8], ndmin=2).T"
      ],
      "metadata": {
        "id": "fmyVazPVw1Hv"
      },
      "execution_count": 11,
      "outputs": []
    },
    {
      "cell_type": "code",
      "source": [
        "X = np.column_stack([np.ones(x.shape), x, x**2, x**3, x**4]) # Note we are including powers up to 4!\n",
        "print(\"The design matrix is:\\n\", X)\n",
        "\n",
        "w = np.dot(np.dot(np.linalg.inv(np.dot(X.T, X)), X.T), y)\n",
        "print(\"The 5 parameters of the least squares 4-degree solution are\\n\", w)\n",
        "\n",
        "X_LS = np.column_stack([np.ones(x_LS.shape), x_LS, x_LS**2, x_LS**3, x_LS**4])\n",
        "y_LS = np.dot(X_LS, w)\n",
        "\n",
        "plt.plot(x, y, 'o', label=\"Dataset\")\n",
        "plt.title('Quartic Model', weight = 'bold')\n",
        "plt.plot(x_LS, y_LS, label=\"quartic prediction\")\n",
        "plt.xlabel(\"x (attribute)\", fontsize=18)\n",
        "plt.ylabel(\"y (label)\", fontsize=18)\n",
        "plt.xlim(-1,8.5)\n",
        "plt.ylim(0, 8)\n",
        "plt.grid(alpha=0.2)\n",
        "plt.legend(fontsize=12)\n",
        "plt.show()"
      ],
      "metadata": {
        "colab": {
          "base_uri": "https://localhost:8080/",
          "height": 577
        },
        "id": "55gmR0nSwz6O",
        "outputId": "34dfbaab-8a22-4357-cb32-5f774d261d37"
      },
      "execution_count": 13,
      "outputs": [
        {
          "output_type": "stream",
          "name": "stdout",
          "text": [
            "The design matrix is:\n",
            " [[1.00000e+00 1.00000e+00 1.00000e+00 1.00000e+00 1.00000e+00]\n",
            " [1.00000e+00 2.00000e+00 4.00000e+00 8.00000e+00 1.60000e+01]\n",
            " [1.00000e+00 3.00000e+00 9.00000e+00 2.70000e+01 8.10000e+01]\n",
            " [1.00000e+00 5.00000e+00 2.50000e+01 1.25000e+02 6.25000e+02]\n",
            " [1.00000e+00 7.00000e+00 4.90000e+01 3.43000e+02 2.40100e+03]\n",
            " [1.00000e+00 8.00000e+00 6.40000e+01 5.12000e+02 4.09600e+03]\n",
            " [1.00000e+00 2.50000e+00 6.25000e+00 1.56250e+01 3.90625e+01]\n",
            " [1.00000e+00 8.00000e+00 6.40000e+01 5.12000e+02 4.09600e+03]]\n",
            "The 5 parameters of the least squares 4-degree solution are\n",
            " [[-2.28268738]\n",
            " [ 6.70145812]\n",
            " [-2.6449933 ]\n",
            " [ 0.40826587]\n",
            " [-0.02088948]]\n"
          ]
        },
        {
          "output_type": "display_data",
          "data": {
            "text/plain": [
              "<Figure size 432x288 with 1 Axes>"
            ],
            "image/png": "[encoded data removed]"
          },
          "metadata": {
            "needs_background": "light"
          }
        }
      ]
    }
  ]
}